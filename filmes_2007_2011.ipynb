{
 "cells": [
  {
   "cell_type": "markdown",
   "id": "c0d3afe6",
   "metadata": {},
   "source": [
    "# Filmes lançados entre 2007 e 2011"
   ]
  },
  {
   "cell_type": "markdown",
   "id": "3b2f8cc2",
   "metadata": {},
   "source": [
    "O conjunto de dados apresenta filmes lançados entre 2007 e 2011. Ele possui 5 atributos, 2 quantitativos e 3 categóricos. Os quantitativos são Budget_M e Worldwide_Gross_M, que correspondem ao orçamento do filme e a bilheteria mundial que o filme obteve em milhões de dólares. Os atributos categóricos são Film, Genre e Year, que representam o nome do filme, o gênero e o ano em que foi lançado.\n",
    "\n",
    "    1. Crie uma visualização que mostre o orçamento de todos os filmes do conjunto de dados. Qual o filme com maior orçamento e com menor orçamento?\n",
    "    \n",
    "    2. Crie uma visualização que mostre a bilheteria de todos os filmes do conjunto de dados. Qual o filme com maior bilheteria e com menor bilheteria?\n",
    "    \n",
    "    3. Crie uma visualização que mostre a quantidade de filmes por gênero em cada ano. Em que anos foram feitos menos filmes de ação? E em que ano foram feitos menos filmes de animação?\n",
    "    \n",
    "    4. Crie uma visualização que mostre a média de orçamento de filmes por gênero em cada ano. Em que ano os filmes de ação tiveram maior média de orçamento? E em que ano os filmes de animação tiveram a maior média de orçamento?\n"
   ]
  },
  {
   "cell_type": "code",
   "execution_count": 1,
   "id": "142675bd",
   "metadata": {},
   "outputs": [],
   "source": [
    "import pandas as pd\n",
    "import matplotlib.pyplot as plt\n",
    "import seaborn as sns\n",
    "%matplotlib inline"
   ]
  },
  {
   "cell_type": "code",
   "execution_count": 2,
   "id": "ab2464ca",
   "metadata": {},
   "outputs": [
    {
     "data": {
      "text/html": [
       "<div>\n",
       "<style scoped>\n",
       "    .dataframe tbody tr th:only-of-type {\n",
       "        vertical-align: middle;\n",
       "    }\n",
       "\n",
       "    .dataframe tbody tr th {\n",
       "        vertical-align: top;\n",
       "    }\n",
       "\n",
       "    .dataframe thead th {\n",
       "        text-align: right;\n",
       "    }\n",
       "</style>\n",
       "<table border=\"1\" class=\"dataframe\">\n",
       "  <thead>\n",
       "    <tr style=\"text-align: right;\">\n",
       "      <th></th>\n",
       "      <th>Film</th>\n",
       "      <th>Year</th>\n",
       "      <th>Genre</th>\n",
       "      <th>Worldwide_Gross_M</th>\n",
       "      <th>Budget_M</th>\n",
       "    </tr>\n",
       "  </thead>\n",
       "  <tbody>\n",
       "    <tr>\n",
       "      <th>0</th>\n",
       "      <td>Harry Potter and the Deathly Hallows Part 2</td>\n",
       "      <td>2011</td>\n",
       "      <td>Fantasy</td>\n",
       "      <td>1328</td>\n",
       "      <td>125</td>\n",
       "    </tr>\n",
       "    <tr>\n",
       "      <th>1</th>\n",
       "      <td>Mission Impossible 4</td>\n",
       "      <td>2011</td>\n",
       "      <td>Action</td>\n",
       "      <td>689</td>\n",
       "      <td>145</td>\n",
       "    </tr>\n",
       "    <tr>\n",
       "      <th>2</th>\n",
       "      <td>Toy Story 3</td>\n",
       "      <td>2010</td>\n",
       "      <td>Animation</td>\n",
       "      <td>1063</td>\n",
       "      <td>200</td>\n",
       "    </tr>\n",
       "    <tr>\n",
       "      <th>3</th>\n",
       "      <td>2012</td>\n",
       "      <td>2009</td>\n",
       "      <td>Action</td>\n",
       "      <td>768</td>\n",
       "      <td>200</td>\n",
       "    </tr>\n",
       "    <tr>\n",
       "      <th>4</th>\n",
       "      <td>Alice in Wonderland</td>\n",
       "      <td>2010</td>\n",
       "      <td>Adventure</td>\n",
       "      <td>1024</td>\n",
       "      <td>200</td>\n",
       "    </tr>\n",
       "  </tbody>\n",
       "</table>\n",
       "</div>"
      ],
      "text/plain": [
       "                                          Film  Year      Genre  \\\n",
       "0  Harry Potter and the Deathly Hallows Part 2  2011    Fantasy   \n",
       "1                         Mission Impossible 4  2011     Action   \n",
       "2                                  Toy Story 3  2010  Animation   \n",
       "3                                         2012  2009     Action   \n",
       "4                          Alice in Wonderland  2010  Adventure   \n",
       "\n",
       "   Worldwide_Gross_M  Budget_M  \n",
       "0               1328       125  \n",
       "1                689       145  \n",
       "2               1063       200  \n",
       "3                768       200  \n",
       "4               1024       200  "
      ]
     },
     "execution_count": 2,
     "metadata": {},
     "output_type": "execute_result"
    }
   ],
   "source": [
    "filmes_uri = 'https://raw.githubusercontent.com/emanueles/datavis-course/master/assets/files/observable/movies.json'\n",
    "filmes = pd.read_json(filmes_uri)\n",
    "filmes.head()"
   ]
  },
  {
   "cell_type": "code",
   "execution_count": 3,
   "id": "54fd376f",
   "metadata": {},
   "outputs": [
    {
     "data": {
      "text/html": [
       "<div>\n",
       "<style scoped>\n",
       "    .dataframe tbody tr th:only-of-type {\n",
       "        vertical-align: middle;\n",
       "    }\n",
       "\n",
       "    .dataframe tbody tr th {\n",
       "        vertical-align: top;\n",
       "    }\n",
       "\n",
       "    .dataframe thead th {\n",
       "        text-align: right;\n",
       "    }\n",
       "</style>\n",
       "<table border=\"1\" class=\"dataframe\">\n",
       "  <thead>\n",
       "    <tr style=\"text-align: right;\">\n",
       "      <th></th>\n",
       "      <th>Film</th>\n",
       "      <th>Year</th>\n",
       "      <th>Genre</th>\n",
       "      <th>Worldwide_Gross_M</th>\n",
       "      <th>Budget_M</th>\n",
       "    </tr>\n",
       "  </thead>\n",
       "  <tbody>\n",
       "    <tr>\n",
       "      <th>0</th>\n",
       "      <td>Harry Potter and the Deathly Hallows Part 2</td>\n",
       "      <td>2011</td>\n",
       "      <td>Fantasy</td>\n",
       "      <td>1328</td>\n",
       "      <td>125</td>\n",
       "    </tr>\n",
       "    <tr>\n",
       "      <th>1</th>\n",
       "      <td>Mission Impossible 4</td>\n",
       "      <td>2011</td>\n",
       "      <td>Action</td>\n",
       "      <td>689</td>\n",
       "      <td>145</td>\n",
       "    </tr>\n",
       "    <tr>\n",
       "      <th>2</th>\n",
       "      <td>Toy Story 3</td>\n",
       "      <td>2010</td>\n",
       "      <td>Animation</td>\n",
       "      <td>1063</td>\n",
       "      <td>200</td>\n",
       "    </tr>\n",
       "    <tr>\n",
       "      <th>3</th>\n",
       "      <td>2012</td>\n",
       "      <td>2009</td>\n",
       "      <td>Action</td>\n",
       "      <td>768</td>\n",
       "      <td>200</td>\n",
       "    </tr>\n",
       "    <tr>\n",
       "      <th>4</th>\n",
       "      <td>Alice in Wonderland</td>\n",
       "      <td>2010</td>\n",
       "      <td>Adventure</td>\n",
       "      <td>1024</td>\n",
       "      <td>200</td>\n",
       "    </tr>\n",
       "    <tr>\n",
       "      <th>5</th>\n",
       "      <td>The Dark Knight</td>\n",
       "      <td>2008</td>\n",
       "      <td>Thriller</td>\n",
       "      <td>999</td>\n",
       "      <td>185</td>\n",
       "    </tr>\n",
       "    <tr>\n",
       "      <th>6</th>\n",
       "      <td>Avatar</td>\n",
       "      <td>2009</td>\n",
       "      <td>Action</td>\n",
       "      <td>2784</td>\n",
       "      <td>237</td>\n",
       "    </tr>\n",
       "    <tr>\n",
       "      <th>7</th>\n",
       "      <td>Transformers: Dark of the Moon</td>\n",
       "      <td>2011</td>\n",
       "      <td>Action</td>\n",
       "      <td>1123</td>\n",
       "      <td>195</td>\n",
       "    </tr>\n",
       "    <tr>\n",
       "      <th>8</th>\n",
       "      <td>Iron Man 2</td>\n",
       "      <td>2010</td>\n",
       "      <td>Action</td>\n",
       "      <td>622</td>\n",
       "      <td>200</td>\n",
       "    </tr>\n",
       "    <tr>\n",
       "      <th>9</th>\n",
       "      <td>Kung Fu Panda 2</td>\n",
       "      <td>2011</td>\n",
       "      <td>Animation</td>\n",
       "      <td>663</td>\n",
       "      <td>150</td>\n",
       "    </tr>\n",
       "    <tr>\n",
       "      <th>10</th>\n",
       "      <td>Shrek the Third</td>\n",
       "      <td>2007</td>\n",
       "      <td>Animation</td>\n",
       "      <td>799</td>\n",
       "      <td>160</td>\n",
       "    </tr>\n",
       "    <tr>\n",
       "      <th>11</th>\n",
       "      <td>Harry Potter and the Half-Blood Prince</td>\n",
       "      <td>2009</td>\n",
       "      <td>Adventure</td>\n",
       "      <td>934</td>\n",
       "      <td>250</td>\n",
       "    </tr>\n",
       "    <tr>\n",
       "      <th>12</th>\n",
       "      <td>Inception</td>\n",
       "      <td>2010</td>\n",
       "      <td>Action</td>\n",
       "      <td>824</td>\n",
       "      <td>160</td>\n",
       "    </tr>\n",
       "    <tr>\n",
       "      <th>13</th>\n",
       "      <td>The Twilight Saga: New Moon</td>\n",
       "      <td>2009</td>\n",
       "      <td>Drama</td>\n",
       "      <td>710</td>\n",
       "      <td>50</td>\n",
       "    </tr>\n",
       "    <tr>\n",
       "      <th>14</th>\n",
       "      <td>Harry Potter and the Deathly Hallows Part 1</td>\n",
       "      <td>2010</td>\n",
       "      <td>Adventure</td>\n",
       "      <td>955</td>\n",
       "      <td>125</td>\n",
       "    </tr>\n",
       "    <tr>\n",
       "      <th>15</th>\n",
       "      <td>Up</td>\n",
       "      <td>2009</td>\n",
       "      <td>Animation</td>\n",
       "      <td>731</td>\n",
       "      <td>175</td>\n",
       "    </tr>\n",
       "    <tr>\n",
       "      <th>16</th>\n",
       "      <td>Pirates of the Caribbean: At World's End</td>\n",
       "      <td>2007</td>\n",
       "      <td>Action</td>\n",
       "      <td>961</td>\n",
       "      <td>300</td>\n",
       "    </tr>\n",
       "    <tr>\n",
       "      <th>17</th>\n",
       "      <td>Transformers</td>\n",
       "      <td>2007</td>\n",
       "      <td>Action</td>\n",
       "      <td>708</td>\n",
       "      <td>150</td>\n",
       "    </tr>\n",
       "    <tr>\n",
       "      <th>18</th>\n",
       "      <td>Indiana Jones and the Kingdom of the Crystal S...</td>\n",
       "      <td>2008</td>\n",
       "      <td>Action</td>\n",
       "      <td>787</td>\n",
       "      <td>185</td>\n",
       "    </tr>\n",
       "    <tr>\n",
       "      <th>19</th>\n",
       "      <td>Shrek Forever After</td>\n",
       "      <td>2010</td>\n",
       "      <td>Animation</td>\n",
       "      <td>749</td>\n",
       "      <td>165</td>\n",
       "    </tr>\n",
       "    <tr>\n",
       "      <th>20</th>\n",
       "      <td>The Twilight Saga: Eclipse</td>\n",
       "      <td>2010</td>\n",
       "      <td>Drama</td>\n",
       "      <td>694</td>\n",
       "      <td>68</td>\n",
       "    </tr>\n",
       "    <tr>\n",
       "      <th>21</th>\n",
       "      <td>Hancock</td>\n",
       "      <td>2008</td>\n",
       "      <td>Action</td>\n",
       "      <td>624</td>\n",
       "      <td>150</td>\n",
       "    </tr>\n",
       "    <tr>\n",
       "      <th>22</th>\n",
       "      <td>Ice Age: Dawn of the Dinosaurs</td>\n",
       "      <td>2009</td>\n",
       "      <td>Animation</td>\n",
       "      <td>887</td>\n",
       "      <td>90</td>\n",
       "    </tr>\n",
       "    <tr>\n",
       "      <th>23</th>\n",
       "      <td>Fast Five</td>\n",
       "      <td>2011</td>\n",
       "      <td>Action</td>\n",
       "      <td>626</td>\n",
       "      <td>125</td>\n",
       "    </tr>\n",
       "    <tr>\n",
       "      <th>24</th>\n",
       "      <td>Kung Fu Panda</td>\n",
       "      <td>2008</td>\n",
       "      <td>Animation</td>\n",
       "      <td>632</td>\n",
       "      <td>200</td>\n",
       "    </tr>\n",
       "    <tr>\n",
       "      <th>25</th>\n",
       "      <td>Ratatouille</td>\n",
       "      <td>2007</td>\n",
       "      <td>Animation</td>\n",
       "      <td>621</td>\n",
       "      <td>150</td>\n",
       "    </tr>\n",
       "    <tr>\n",
       "      <th>26</th>\n",
       "      <td>Transformers: Revenge of the Fallen</td>\n",
       "      <td>2009</td>\n",
       "      <td>Action</td>\n",
       "      <td>836</td>\n",
       "      <td>210</td>\n",
       "    </tr>\n",
       "    <tr>\n",
       "      <th>27</th>\n",
       "      <td>Twilight: Breaking Dawn</td>\n",
       "      <td>2011</td>\n",
       "      <td>Romance</td>\n",
       "      <td>702</td>\n",
       "      <td>110</td>\n",
       "    </tr>\n",
       "    <tr>\n",
       "      <th>28</th>\n",
       "      <td>Spider-Man 3</td>\n",
       "      <td>2007</td>\n",
       "      <td>Action</td>\n",
       "      <td>891</td>\n",
       "      <td>258</td>\n",
       "    </tr>\n",
       "    <tr>\n",
       "      <th>29</th>\n",
       "      <td>Harry Potter and the Order of the Phoenix</td>\n",
       "      <td>2007</td>\n",
       "      <td>Adventure</td>\n",
       "      <td>940</td>\n",
       "      <td>150</td>\n",
       "    </tr>\n",
       "  </tbody>\n",
       "</table>\n",
       "</div>"
      ],
      "text/plain": [
       "                                                 Film  Year      Genre  \\\n",
       "0         Harry Potter and the Deathly Hallows Part 2  2011    Fantasy   \n",
       "1                                Mission Impossible 4  2011     Action   \n",
       "2                                         Toy Story 3  2010  Animation   \n",
       "3                                                2012  2009     Action   \n",
       "4                                 Alice in Wonderland  2010  Adventure   \n",
       "5                                     The Dark Knight  2008   Thriller   \n",
       "6                                              Avatar  2009     Action   \n",
       "7                      Transformers: Dark of the Moon  2011     Action   \n",
       "8                                          Iron Man 2  2010     Action   \n",
       "9                                     Kung Fu Panda 2  2011  Animation   \n",
       "10                                    Shrek the Third  2007  Animation   \n",
       "11             Harry Potter and the Half-Blood Prince  2009  Adventure   \n",
       "12                                          Inception  2010     Action   \n",
       "13                        The Twilight Saga: New Moon  2009      Drama   \n",
       "14        Harry Potter and the Deathly Hallows Part 1  2010  Adventure   \n",
       "15                                                 Up  2009  Animation   \n",
       "16           Pirates of the Caribbean: At World's End  2007     Action   \n",
       "17                                       Transformers  2007     Action   \n",
       "18  Indiana Jones and the Kingdom of the Crystal S...  2008     Action   \n",
       "19                                Shrek Forever After  2010  Animation   \n",
       "20                         The Twilight Saga: Eclipse  2010      Drama   \n",
       "21                                            Hancock  2008     Action   \n",
       "22                     Ice Age: Dawn of the Dinosaurs  2009  Animation   \n",
       "23                                          Fast Five  2011     Action   \n",
       "24                                      Kung Fu Panda  2008  Animation   \n",
       "25                                        Ratatouille  2007  Animation   \n",
       "26                Transformers: Revenge of the Fallen  2009     Action   \n",
       "27                            Twilight: Breaking Dawn  2011    Romance   \n",
       "28                                       Spider-Man 3  2007     Action   \n",
       "29          Harry Potter and the Order of the Phoenix  2007  Adventure   \n",
       "\n",
       "    Worldwide_Gross_M  Budget_M  \n",
       "0                1328       125  \n",
       "1                 689       145  \n",
       "2                1063       200  \n",
       "3                 768       200  \n",
       "4                1024       200  \n",
       "5                 999       185  \n",
       "6                2784       237  \n",
       "7                1123       195  \n",
       "8                 622       200  \n",
       "9                 663       150  \n",
       "10                799       160  \n",
       "11                934       250  \n",
       "12                824       160  \n",
       "13                710        50  \n",
       "14                955       125  \n",
       "15                731       175  \n",
       "16                961       300  \n",
       "17                708       150  \n",
       "18                787       185  \n",
       "19                749       165  \n",
       "20                694        68  \n",
       "21                624       150  \n",
       "22                887        90  \n",
       "23                626       125  \n",
       "24                632       200  \n",
       "25                621       150  \n",
       "26                836       210  \n",
       "27                702       110  \n",
       "28                891       258  \n",
       "29                940       150  "
      ]
     },
     "execution_count": 3,
     "metadata": {},
     "output_type": "execute_result"
    }
   ],
   "source": [
    "filmes"
   ]
  },
  {
   "cell_type": "code",
   "execution_count": 4,
   "id": "9f52580c",
   "metadata": {},
   "outputs": [
    {
     "data": {
      "text/html": [
       "<div>\n",
       "<style scoped>\n",
       "    .dataframe tbody tr th:only-of-type {\n",
       "        vertical-align: middle;\n",
       "    }\n",
       "\n",
       "    .dataframe tbody tr th {\n",
       "        vertical-align: top;\n",
       "    }\n",
       "\n",
       "    .dataframe thead th {\n",
       "        text-align: right;\n",
       "    }\n",
       "</style>\n",
       "<table border=\"1\" class=\"dataframe\">\n",
       "  <thead>\n",
       "    <tr style=\"text-align: right;\">\n",
       "      <th></th>\n",
       "      <th>Year</th>\n",
       "      <th>Worldwide_Gross_M</th>\n",
       "      <th>Budget_M</th>\n",
       "    </tr>\n",
       "  </thead>\n",
       "  <tbody>\n",
       "    <tr>\n",
       "      <th>count</th>\n",
       "      <td>30.000000</td>\n",
       "      <td>30.000000</td>\n",
       "      <td>30.000000</td>\n",
       "    </tr>\n",
       "    <tr>\n",
       "      <th>mean</th>\n",
       "      <td>2009.100000</td>\n",
       "      <td>889.133333</td>\n",
       "      <td>168.933333</td>\n",
       "    </tr>\n",
       "    <tr>\n",
       "      <th>std</th>\n",
       "      <td>1.422722</td>\n",
       "      <td>397.207818</td>\n",
       "      <td>54.591861</td>\n",
       "    </tr>\n",
       "    <tr>\n",
       "      <th>min</th>\n",
       "      <td>2007.000000</td>\n",
       "      <td>621.000000</td>\n",
       "      <td>50.000000</td>\n",
       "    </tr>\n",
       "    <tr>\n",
       "      <th>25%</th>\n",
       "      <td>2008.000000</td>\n",
       "      <td>696.000000</td>\n",
       "      <td>146.250000</td>\n",
       "    </tr>\n",
       "    <tr>\n",
       "      <th>50%</th>\n",
       "      <td>2009.000000</td>\n",
       "      <td>793.000000</td>\n",
       "      <td>162.500000</td>\n",
       "    </tr>\n",
       "    <tr>\n",
       "      <th>75%</th>\n",
       "      <td>2010.000000</td>\n",
       "      <td>951.250000</td>\n",
       "      <td>200.000000</td>\n",
       "    </tr>\n",
       "    <tr>\n",
       "      <th>max</th>\n",
       "      <td>2011.000000</td>\n",
       "      <td>2784.000000</td>\n",
       "      <td>300.000000</td>\n",
       "    </tr>\n",
       "  </tbody>\n",
       "</table>\n",
       "</div>"
      ],
      "text/plain": [
       "              Year  Worldwide_Gross_M    Budget_M\n",
       "count    30.000000          30.000000   30.000000\n",
       "mean   2009.100000         889.133333  168.933333\n",
       "std       1.422722         397.207818   54.591861\n",
       "min    2007.000000         621.000000   50.000000\n",
       "25%    2008.000000         696.000000  146.250000\n",
       "50%    2009.000000         793.000000  162.500000\n",
       "75%    2010.000000         951.250000  200.000000\n",
       "max    2011.000000        2784.000000  300.000000"
      ]
     },
     "execution_count": 4,
     "metadata": {},
     "output_type": "execute_result"
    }
   ],
   "source": [
    "filmes.describe()"
   ]
  },
  {
   "cell_type": "code",
   "execution_count": 5,
   "id": "d4b3157e",
   "metadata": {},
   "outputs": [
    {
     "name": "stdout",
     "output_type": "stream",
     "text": [
      "<class 'pandas.core.frame.DataFrame'>\n",
      "RangeIndex: 30 entries, 0 to 29\n",
      "Data columns (total 5 columns):\n",
      " #   Column             Non-Null Count  Dtype \n",
      "---  ------             --------------  ----- \n",
      " 0   Film               30 non-null     object\n",
      " 1   Year               30 non-null     int64 \n",
      " 2   Genre              30 non-null     object\n",
      " 3   Worldwide_Gross_M  30 non-null     int64 \n",
      " 4   Budget_M           30 non-null     int64 \n",
      "dtypes: int64(3), object(2)\n",
      "memory usage: 1.3+ KB\n"
     ]
    }
   ],
   "source": [
    "filmes.info()"
   ]
  },
  {
   "cell_type": "markdown",
   "id": "5b01f9f9",
   "metadata": {},
   "source": [
    "#     1. Crie uma visualização que mostre o orçamento de todos os filmes do conjunto de dados. Qual o filme com maior orçamento e com menor orçamento?\n"
   ]
  },
  {
   "cell_type": "markdown",
   "id": "db4f5845",
   "metadata": {},
   "source": [
    "Visualização que mostre o orçamento de todos os filmes do conjunto de dados:"
   ]
  },
  {
   "cell_type": "code",
   "execution_count": 6,
   "id": "a675b96a",
   "metadata": {},
   "outputs": [
    {
     "data": {
      "image/png": "[encoded data removed]",
      "text/plain": [
       "<Figure size 576x576 with 1 Axes>"
      ]
     },
     "metadata": {
      "needs_background": "light"
     },
     "output_type": "display_data"
    }
   ],
   "source": [
    "plt.figure(figsize=(8,8))\n",
    "plt.title('Orçamento de todos os filmes do conjunto de dados')\n",
    "sns.barplot(y=\"Film\", x=\"Budget_M\", color = 'b', ci = None, data=filmes)\n",
    "plt.show()"
   ]
  },
  {
   "cell_type": "markdown",
   "id": "13465a85",
   "metadata": {},
   "source": [
    "Qual o filme com maior orçamento e com menor orçamento?"
   ]
  },
  {
   "cell_type": "code",
   "execution_count": 7,
   "id": "69a071bf",
   "metadata": {},
   "outputs": [
    {
     "data": {
      "text/html": [
       "<div>\n",
       "<style scoped>\n",
       "    .dataframe tbody tr th:only-of-type {\n",
       "        vertical-align: middle;\n",
       "    }\n",
       "\n",
       "    .dataframe tbody tr th {\n",
       "        vertical-align: top;\n",
       "    }\n",
       "\n",
       "    .dataframe thead th {\n",
       "        text-align: right;\n",
       "    }\n",
       "</style>\n",
       "<table border=\"1\" class=\"dataframe\">\n",
       "  <thead>\n",
       "    <tr style=\"text-align: right;\">\n",
       "      <th></th>\n",
       "      <th>Film</th>\n",
       "      <th>Year</th>\n",
       "      <th>Genre</th>\n",
       "      <th>Worldwide_Gross_M</th>\n",
       "      <th>Budget_M</th>\n",
       "    </tr>\n",
       "  </thead>\n",
       "  <tbody>\n",
       "    <tr>\n",
       "      <th>16</th>\n",
       "      <td>Pirates of the Caribbean: At World's End</td>\n",
       "      <td>2007</td>\n",
       "      <td>Action</td>\n",
       "      <td>961</td>\n",
       "      <td>300</td>\n",
       "    </tr>\n",
       "    <tr>\n",
       "      <th>28</th>\n",
       "      <td>Spider-Man 3</td>\n",
       "      <td>2007</td>\n",
       "      <td>Action</td>\n",
       "      <td>891</td>\n",
       "      <td>258</td>\n",
       "    </tr>\n",
       "    <tr>\n",
       "      <th>11</th>\n",
       "      <td>Harry Potter and the Half-Blood Prince</td>\n",
       "      <td>2009</td>\n",
       "      <td>Adventure</td>\n",
       "      <td>934</td>\n",
       "      <td>250</td>\n",
       "    </tr>\n",
       "    <tr>\n",
       "      <th>6</th>\n",
       "      <td>Avatar</td>\n",
       "      <td>2009</td>\n",
       "      <td>Action</td>\n",
       "      <td>2784</td>\n",
       "      <td>237</td>\n",
       "    </tr>\n",
       "    <tr>\n",
       "      <th>26</th>\n",
       "      <td>Transformers: Revenge of the Fallen</td>\n",
       "      <td>2009</td>\n",
       "      <td>Action</td>\n",
       "      <td>836</td>\n",
       "      <td>210</td>\n",
       "    </tr>\n",
       "  </tbody>\n",
       "</table>\n",
       "</div>"
      ],
      "text/plain": [
       "                                        Film  Year      Genre  \\\n",
       "16  Pirates of the Caribbean: At World's End  2007     Action   \n",
       "28                              Spider-Man 3  2007     Action   \n",
       "11    Harry Potter and the Half-Blood Prince  2009  Adventure   \n",
       "6                                     Avatar  2009     Action   \n",
       "26       Transformers: Revenge of the Fallen  2009     Action   \n",
       "\n",
       "    Worldwide_Gross_M  Budget_M  \n",
       "16                961       300  \n",
       "28                891       258  \n",
       "11                934       250  \n",
       "6                2784       237  \n",
       "26                836       210  "
      ]
     },
     "execution_count": 7,
     "metadata": {},
     "output_type": "execute_result"
    }
   ],
   "source": [
    "filmes.sort_values(by='Budget_M', ascending = False).head()"
   ]
  },
  {
   "cell_type": "markdown",
   "id": "57e6bbdb",
   "metadata": {},
   "source": [
    "- O filme com maior orçamento é Pirates of the Caribbean: At World's End."
   ]
  },
  {
   "cell_type": "code",
   "execution_count": 8,
   "id": "be3ddb00",
   "metadata": {},
   "outputs": [
    {
     "data": {
      "text/html": [
       "<div>\n",
       "<style scoped>\n",
       "    .dataframe tbody tr th:only-of-type {\n",
       "        vertical-align: middle;\n",
       "    }\n",
       "\n",
       "    .dataframe tbody tr th {\n",
       "        vertical-align: top;\n",
       "    }\n",
       "\n",
       "    .dataframe thead th {\n",
       "        text-align: right;\n",
       "    }\n",
       "</style>\n",
       "<table border=\"1\" class=\"dataframe\">\n",
       "  <thead>\n",
       "    <tr style=\"text-align: right;\">\n",
       "      <th></th>\n",
       "      <th>Film</th>\n",
       "      <th>Year</th>\n",
       "      <th>Genre</th>\n",
       "      <th>Worldwide_Gross_M</th>\n",
       "      <th>Budget_M</th>\n",
       "    </tr>\n",
       "  </thead>\n",
       "  <tbody>\n",
       "    <tr>\n",
       "      <th>13</th>\n",
       "      <td>The Twilight Saga: New Moon</td>\n",
       "      <td>2009</td>\n",
       "      <td>Drama</td>\n",
       "      <td>710</td>\n",
       "      <td>50</td>\n",
       "    </tr>\n",
       "    <tr>\n",
       "      <th>20</th>\n",
       "      <td>The Twilight Saga: Eclipse</td>\n",
       "      <td>2010</td>\n",
       "      <td>Drama</td>\n",
       "      <td>694</td>\n",
       "      <td>68</td>\n",
       "    </tr>\n",
       "    <tr>\n",
       "      <th>22</th>\n",
       "      <td>Ice Age: Dawn of the Dinosaurs</td>\n",
       "      <td>2009</td>\n",
       "      <td>Animation</td>\n",
       "      <td>887</td>\n",
       "      <td>90</td>\n",
       "    </tr>\n",
       "    <tr>\n",
       "      <th>27</th>\n",
       "      <td>Twilight: Breaking Dawn</td>\n",
       "      <td>2011</td>\n",
       "      <td>Romance</td>\n",
       "      <td>702</td>\n",
       "      <td>110</td>\n",
       "    </tr>\n",
       "    <tr>\n",
       "      <th>0</th>\n",
       "      <td>Harry Potter and the Deathly Hallows Part 2</td>\n",
       "      <td>2011</td>\n",
       "      <td>Fantasy</td>\n",
       "      <td>1328</td>\n",
       "      <td>125</td>\n",
       "    </tr>\n",
       "  </tbody>\n",
       "</table>\n",
       "</div>"
      ],
      "text/plain": [
       "                                           Film  Year      Genre  \\\n",
       "13                  The Twilight Saga: New Moon  2009      Drama   \n",
       "20                   The Twilight Saga: Eclipse  2010      Drama   \n",
       "22               Ice Age: Dawn of the Dinosaurs  2009  Animation   \n",
       "27                      Twilight: Breaking Dawn  2011    Romance   \n",
       "0   Harry Potter and the Deathly Hallows Part 2  2011    Fantasy   \n",
       "\n",
       "    Worldwide_Gross_M  Budget_M  \n",
       "13                710        50  \n",
       "20                694        68  \n",
       "22                887        90  \n",
       "27                702       110  \n",
       "0                1328       125  "
      ]
     },
     "execution_count": 8,
     "metadata": {},
     "output_type": "execute_result"
    }
   ],
   "source": [
    "filmes.sort_values(by='Budget_M', ascending = True).head()"
   ]
  },
  {
   "cell_type": "markdown",
   "id": "58ed7652",
   "metadata": {},
   "source": [
    "- O filme com menor orçamento é The Twilight Saga: New Moon."
   ]
  },
  {
   "cell_type": "markdown",
   "id": "b5a66e01",
   "metadata": {},
   "source": [
    "# 2. Crie uma visualização que mostre a bilheteria de todos os filmes do conjunto de dados. Qual o filme com maior bilheteria e com menor bilheteria?"
   ]
  },
  {
   "cell_type": "markdown",
   "id": "7382d995",
   "metadata": {},
   "source": [
    "Visualização que mostre a bilheteria de todos os filmes do conjunto de dados:"
   ]
  },
  {
   "cell_type": "code",
   "execution_count": 9,
   "id": "e4674a9d",
   "metadata": {},
   "outputs": [
    {
     "data": {
      "image/png": "[encoded data removed]",
      "text/plain": [
       "<Figure size 576x576 with 1 Axes>"
      ]
     },
     "metadata": {
      "needs_background": "light"
     },
     "output_type": "display_data"
    }
   ],
   "source": [
    "plt.figure(figsize=(8,8))\n",
    "plt.title('Bilheteria de todos os filmes do conjunto de dado')\n",
    "sns.barplot(y=\"Film\", x=\"Worldwide_Gross_M\", color = 'b', ci = None, data=filmes)\n",
    "plt.show()"
   ]
  },
  {
   "cell_type": "markdown",
   "id": "2a6d194d",
   "metadata": {},
   "source": [
    "Qual o filme com maior bilheteria e com menor bilheteria?"
   ]
  },
  {
   "cell_type": "code",
   "execution_count": 10,
   "id": "be1b5c71",
   "metadata": {},
   "outputs": [
    {
     "data": {
      "text/html": [
       "<div>\n",
       "<style scoped>\n",
       "    .dataframe tbody tr th:only-of-type {\n",
       "        vertical-align: middle;\n",
       "    }\n",
       "\n",
       "    .dataframe tbody tr th {\n",
       "        vertical-align: top;\n",
       "    }\n",
       "\n",
       "    .dataframe thead th {\n",
       "        text-align: right;\n",
       "    }\n",
       "</style>\n",
       "<table border=\"1\" class=\"dataframe\">\n",
       "  <thead>\n",
       "    <tr style=\"text-align: right;\">\n",
       "      <th></th>\n",
       "      <th>Film</th>\n",
       "      <th>Year</th>\n",
       "      <th>Genre</th>\n",
       "      <th>Worldwide_Gross_M</th>\n",
       "      <th>Budget_M</th>\n",
       "    </tr>\n",
       "  </thead>\n",
       "  <tbody>\n",
       "    <tr>\n",
       "      <th>6</th>\n",
       "      <td>Avatar</td>\n",
       "      <td>2009</td>\n",
       "      <td>Action</td>\n",
       "      <td>2784</td>\n",
       "      <td>237</td>\n",
       "    </tr>\n",
       "    <tr>\n",
       "      <th>0</th>\n",
       "      <td>Harry Potter and the Deathly Hallows Part 2</td>\n",
       "      <td>2011</td>\n",
       "      <td>Fantasy</td>\n",
       "      <td>1328</td>\n",
       "      <td>125</td>\n",
       "    </tr>\n",
       "    <tr>\n",
       "      <th>7</th>\n",
       "      <td>Transformers: Dark of the Moon</td>\n",
       "      <td>2011</td>\n",
       "      <td>Action</td>\n",
       "      <td>1123</td>\n",
       "      <td>195</td>\n",
       "    </tr>\n",
       "    <tr>\n",
       "      <th>2</th>\n",
       "      <td>Toy Story 3</td>\n",
       "      <td>2010</td>\n",
       "      <td>Animation</td>\n",
       "      <td>1063</td>\n",
       "      <td>200</td>\n",
       "    </tr>\n",
       "    <tr>\n",
       "      <th>4</th>\n",
       "      <td>Alice in Wonderland</td>\n",
       "      <td>2010</td>\n",
       "      <td>Adventure</td>\n",
       "      <td>1024</td>\n",
       "      <td>200</td>\n",
       "    </tr>\n",
       "  </tbody>\n",
       "</table>\n",
       "</div>"
      ],
      "text/plain": [
       "                                          Film  Year      Genre  \\\n",
       "6                                       Avatar  2009     Action   \n",
       "0  Harry Potter and the Deathly Hallows Part 2  2011    Fantasy   \n",
       "7               Transformers: Dark of the Moon  2011     Action   \n",
       "2                                  Toy Story 3  2010  Animation   \n",
       "4                          Alice in Wonderland  2010  Adventure   \n",
       "\n",
       "   Worldwide_Gross_M  Budget_M  \n",
       "6               2784       237  \n",
       "0               1328       125  \n",
       "7               1123       195  \n",
       "2               1063       200  \n",
       "4               1024       200  "
      ]
     },
     "execution_count": 10,
     "metadata": {},
     "output_type": "execute_result"
    }
   ],
   "source": [
    "filmes.sort_values(by='Worldwide_Gross_M', ascending = False).head()"
   ]
  },
  {
   "cell_type": "markdown",
   "id": "28bfbf2b",
   "metadata": {},
   "source": [
    "- O filme com maior bilheteria é Avatar."
   ]
  },
  {
   "cell_type": "code",
   "execution_count": 11,
   "id": "79cd7ea6",
   "metadata": {},
   "outputs": [
    {
     "data": {
      "text/html": [
       "<div>\n",
       "<style scoped>\n",
       "    .dataframe tbody tr th:only-of-type {\n",
       "        vertical-align: middle;\n",
       "    }\n",
       "\n",
       "    .dataframe tbody tr th {\n",
       "        vertical-align: top;\n",
       "    }\n",
       "\n",
       "    .dataframe thead th {\n",
       "        text-align: right;\n",
       "    }\n",
       "</style>\n",
       "<table border=\"1\" class=\"dataframe\">\n",
       "  <thead>\n",
       "    <tr style=\"text-align: right;\">\n",
       "      <th></th>\n",
       "      <th>Film</th>\n",
       "      <th>Year</th>\n",
       "      <th>Genre</th>\n",
       "      <th>Worldwide_Gross_M</th>\n",
       "      <th>Budget_M</th>\n",
       "    </tr>\n",
       "  </thead>\n",
       "  <tbody>\n",
       "    <tr>\n",
       "      <th>25</th>\n",
       "      <td>Ratatouille</td>\n",
       "      <td>2007</td>\n",
       "      <td>Animation</td>\n",
       "      <td>621</td>\n",
       "      <td>150</td>\n",
       "    </tr>\n",
       "    <tr>\n",
       "      <th>8</th>\n",
       "      <td>Iron Man 2</td>\n",
       "      <td>2010</td>\n",
       "      <td>Action</td>\n",
       "      <td>622</td>\n",
       "      <td>200</td>\n",
       "    </tr>\n",
       "    <tr>\n",
       "      <th>21</th>\n",
       "      <td>Hancock</td>\n",
       "      <td>2008</td>\n",
       "      <td>Action</td>\n",
       "      <td>624</td>\n",
       "      <td>150</td>\n",
       "    </tr>\n",
       "    <tr>\n",
       "      <th>23</th>\n",
       "      <td>Fast Five</td>\n",
       "      <td>2011</td>\n",
       "      <td>Action</td>\n",
       "      <td>626</td>\n",
       "      <td>125</td>\n",
       "    </tr>\n",
       "    <tr>\n",
       "      <th>24</th>\n",
       "      <td>Kung Fu Panda</td>\n",
       "      <td>2008</td>\n",
       "      <td>Animation</td>\n",
       "      <td>632</td>\n",
       "      <td>200</td>\n",
       "    </tr>\n",
       "  </tbody>\n",
       "</table>\n",
       "</div>"
      ],
      "text/plain": [
       "             Film  Year      Genre  Worldwide_Gross_M  Budget_M\n",
       "25    Ratatouille  2007  Animation                621       150\n",
       "8      Iron Man 2  2010     Action                622       200\n",
       "21        Hancock  2008     Action                624       150\n",
       "23      Fast Five  2011     Action                626       125\n",
       "24  Kung Fu Panda  2008  Animation                632       200"
      ]
     },
     "execution_count": 11,
     "metadata": {},
     "output_type": "execute_result"
    }
   ],
   "source": [
    "filmes.sort_values(by='Worldwide_Gross_M', ascending = True).head()"
   ]
  },
  {
   "cell_type": "markdown",
   "id": "7b706f09",
   "metadata": {},
   "source": [
    "- O filme com menor bilheteria é Ratatouille."
   ]
  },
  {
   "cell_type": "markdown",
   "id": "ea0fc90a",
   "metadata": {},
   "source": [
    "# 3. Crie uma visualização que mostre a quantidade de filmes por gênero em cada ano. Em que anos foram feitos menos filmes de ação? E em que ano foram feitos menos filmes de animação?"
   ]
  },
  {
   "cell_type": "markdown",
   "id": "1d0d794c",
   "metadata": {},
   "source": [
    "Visualização que mostre a quantidade de filmes por gênero em cada ano:"
   ]
  },
  {
   "cell_type": "code",
   "execution_count": 12,
   "id": "3800a1b9",
   "metadata": {},
   "outputs": [
    {
     "data": {
      "image/png": "[encoded data removed]",
      "text/plain": [
       "<Figure size 1080x576 with 1 Axes>"
      ]
     },
     "metadata": {
      "needs_background": "light"
     },
     "output_type": "display_data"
    }
   ],
   "source": [
    "plt.figure(figsize=(15,8))\n",
    "plt.title('Filmes por gênero em cada ano')\n",
    "sns.countplot(x=\"Year\", hue= 'Genre', palette = \"bright\", data=filmes)\n",
    "plt.legend(loc='upper right')\n",
    "plt.show()"
   ]
  },
  {
   "cell_type": "markdown",
   "id": "02361ca7",
   "metadata": {},
   "source": [
    "Em que anos foram feitos menos filmes de ação?"
   ]
  },
  {
   "cell_type": "markdown",
   "id": "6871a9e4",
   "metadata": {},
   "source": [
    "- Foram feitos menos filmes de ação em 2008 e em 2010."
   ]
  },
  {
   "cell_type": "markdown",
   "id": "0a40833e",
   "metadata": {},
   "source": [
    "E em que ano foram feitos menos filmes de animação?"
   ]
  },
  {
   "cell_type": "markdown",
   "id": "9c709e01",
   "metadata": {},
   "source": [
    "- Foram feitos menos filmes de animação em 2008 e em 2011."
   ]
  },
  {
   "cell_type": "markdown",
   "id": "ea4d1697",
   "metadata": {},
   "source": [
    "# 4. Crie uma visualização que mostre a média de orçamento de filmes por gênero em cada ano. Em que ano os filmes de ação tiveram maior média de orçamento? E em que ano os filmes de animação tiveram a maior média de orçamento?\n"
   ]
  },
  {
   "cell_type": "markdown",
   "id": "5e9c7929",
   "metadata": {},
   "source": [
    "Visualização que mostre a média de orçamento de filmes por gênero em cada ano:"
   ]
  },
  {
   "cell_type": "code",
   "execution_count": 13,
   "id": "e82257fa",
   "metadata": {},
   "outputs": [
    {
     "data": {
      "image/png": "[encoded data removed]",
      "text/plain": [
       "<Figure size 1080x576 with 1 Axes>"
      ]
     },
     "metadata": {
      "needs_background": "light"
     },
     "output_type": "display_data"
    }
   ],
   "source": [
    "plt.figure(figsize=(15,8))\n",
    "plt.title('Média de orçamento de filmes por gênero em cada ano')\n",
    "sns.barplot(x=\"Year\", y=\"Budget_M\", hue= 'Genre', palette = \"bright\", ci = None, data=filmes)\n",
    "plt.legend(loc='upper right')\n",
    "plt.show()"
   ]
  },
  {
   "cell_type": "markdown",
   "id": "f3af3619",
   "metadata": {},
   "source": [
    "Em que ano os filmes de ação tiveram maior média de orçamento?"
   ]
  },
  {
   "cell_type": "markdown",
   "id": "429ca666",
   "metadata": {},
   "source": [
    "- Os filmes de ação tiveram maior média de orçamento em 2007."
   ]
  },
  {
   "cell_type": "markdown",
   "id": "abeda24f",
   "metadata": {},
   "source": [
    "E em que ano os filmes de animação tiveram a maior média de orçamento?"
   ]
  },
  {
   "cell_type": "markdown",
   "id": "29a77514",
   "metadata": {},
   "source": [
    "- Os filmes de animação tiveram a maior média de orçamento em 2008."
   ]
  },
  {
   "cell_type": "code",
   "execution_count": null,
   "id": "6b573a5d",
   "metadata": {},
   "outputs": [],
   "source": []
  }
 ],
 "metadata": {
  "kernelspec": {
   "display_name": "Python 3",
   "language": "python",
   "name": "python3"
  },
  "language_info": {
   "codemirror_mode": {
    "name": "ipython",
    "version": 3
   },
   "file_extension": ".py",
   "mimetype": "text/x-python",
   "name": "python",
   "nbconvert_exporter": "python",
   "pygments_lexer": "ipython3",
   "version": "3.8.8"
  }
 },
 "nbformat": 4,
 "nbformat_minor": 5
}
